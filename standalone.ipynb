{
 "cells": [
  {
   "cell_type": "code",
   "execution_count": null,
   "metadata": {},
   "outputs": [],
   "source": [
    "import matplotlib.pyplot as plt\n",
    "import ipyplot\n",
    "import numpy as np\n",
    "import cv2\n",
    "import math\n",
    "import statistics\n",
    "from scipy.signal import find_peaks\n",
    "from collections import Counter\n",
    "\n",
    "def imshow(img):\n",
    "    plt.imshow(img[0:1680, 0:1700])"
   ]
  },
  {
   "cell_type": "code",
   "execution_count": null,
   "metadata": {},
   "outputs": [],
   "source": [
    "img_orig = cv2.imread(\"jigsawsqr.png\")\n",
    "img_orig = img_orig[70:420, 75:440]\n",
    "h, w = img_orig.shape[:2]\n",
    "img_orig = cv2.resize(img_orig, (4*w, 4*h))\n",
    "imshow(img_orig);"
   ]
  },
  {
   "cell_type": "code",
   "execution_count": null,
   "metadata": {},
   "outputs": [],
   "source": [
    "img_gray = cv2.cvtColor(img_orig, cv2.COLOR_BGR2GRAY)\n",
    "imshow(img_gray);"
   ]
  },
  {
   "cell_type": "code",
   "execution_count": null,
   "metadata": {},
   "outputs": [],
   "source": [
    "img_edges = cv2.Canny(image=img_gray, threshold1=100, threshold2=200)\n",
    "imshow(img_edges);"
   ]
  },
  {
   "cell_type": "code",
   "execution_count": null,
   "metadata": {},
   "outputs": [],
   "source": [
    "_, img_binary = cv2.threshold(img_gray, 127, 255, cv2.THRESH_BINARY)\n",
    "raw_contours, _ = cv2.findContours(img_binary, cv2.RETR_EXTERNAL, cv2.CHAIN_APPROX_NONE)\n",
    "img = img_orig.copy()\n",
    "cv2.drawContours(img, raw_contours, -1, (0, 255, 0), 2)\n",
    "print(\"Number of detected contours: \", len(raw_contours))\n",
    "imshow(img);"
   ]
  },
  {
   "cell_type": "code",
   "execution_count": null,
   "metadata": {},
   "outputs": [],
   "source": [
    "class Item():\n",
    "    def __init__(self, **kwargs):\n",
    "        self.update(**kwargs)\n",
    "\n",
    "    def update(self, **kwargs):\n",
    "        self.__dict__.update(kwargs)"
   ]
  },
  {
   "cell_type": "code",
   "execution_count": null,
   "metadata": {},
   "outputs": [],
   "source": [
    "areas = [cv2.contourArea(contour) for contour in raw_contours]\n",
    "median_area = statistics.median(areas)\n",
    "min_area = 0.5 * median_area\n",
    "max_area = 2 * median_area\n",
    "print(f\"Ignore too big or small shapes, median_area: {median_area}\")\n",
    "\n",
    "pieces = []\n",
    "for contour, area in zip(raw_contours, areas):\n",
    "    if 0.5 < area / median_area < 2:\n",
    "        rect = cv2.boundingRect(contour)\n",
    "        piece = Item(contour = contour, area = area, rect = rect)\n",
    "        pieces.append(piece)\n",
    "\n",
    "nb_pieces = len(pieces)\n",
    "print(f\"Number of detected pieces: {nb_pieces}\")\n",
    "\n",
    "img = img_orig.copy()\n",
    "for piece in pieces:\n",
    "    x, y, w, h = piece.rect\n",
    "    cv2.rectangle(img, (x, y), (x+w, y+h), (0, 255, 0), 2)\n",
    "\n",
    "imshow(img);"
   ]
  },
  {
   "cell_type": "code",
   "execution_count": null,
   "metadata": {},
   "outputs": [],
   "source": [
    "img = img_orig.copy()\n",
    "for piece in pieces:\n",
    "    min_area_rect = cv2.minAreaRect(piece.contour)\n",
    "    (cx, cy), (sx, sy), angle = min_area_rect\n",
    "    if sy < sx:\n",
    "        angle = (angle + 90) % 360\n",
    "        sx, sy = sy, sx\n",
    "    min_area_rect = ((cx, cy), (sx, sy), angle)\n",
    "    piece.update(min_area_rect = min_area_rect)\n",
    "\n",
    "    box = np.int0(cv2.boxPoints(min_area_rect))\n",
    "    cv2.drawContours(img, [box], 0, (0, 255, 0), 2)\n",
    "\n",
    "imshow(img);"
   ]
  },
  {
   "cell_type": "code",
   "execution_count": null,
   "metadata": {},
   "outputs": [],
   "source": [
    "for piece in pieces:\n",
    "    x, y, w, h = piece.rect\n",
    "    img = img_gray[y:y+h, x:x+w]\n",
    "    piece.update(img = img)\n",
    "\n",
    "ipyplot.plot_images([piece.img for piece in pieces], img_width=75);"
   ]
  },
  {
   "cell_type": "code",
   "execution_count": null,
   "metadata": {},
   "outputs": [],
   "source": [
    "for piece in pieces:\n",
    "    piece_degrees = piece.min_area_rect[2]\n",
    "    x, y, w, h = piece.rect\n",
    "    img = cv2.linearPolar(img_gray[y:y+h, x:x+w], (w/2, h/2), max(h, w), cv2.WARP_FILL_OUTLIERS)\n",
    "    y0 = int(piece_degrees * h / 360) % 360\n",
    "    img = np.concatenate([img[y0:, :], img[:y0, :]])\n",
    "    _, img_binary = cv2.threshold(img, 127, 255, cv2.THRESH_BINARY)\n",
    "    piece.update(img_polar = img_binary)\n",
    "\n",
    "ipyplot.plot_images([piece.img_polar for piece in pieces], img_width=75); "
   ]
  },
  {
   "cell_type": "code",
   "execution_count": null,
   "metadata": {},
   "outputs": [],
   "source": [
    "imgs = []\n",
    "\n",
    "for piece in pieces:\n",
    "    img_reversed = np.flip(piece.img_polar, axis=1)\n",
    "    h, w = img_reversed.shape[:2]\n",
    "    radius = w - np.argmax(img_reversed, axis=1)\n",
    "    peak_indices = find_peaks(radius, prominence=5)[0]\n",
    "\n",
    "    polar_peaks = [(radius[idx] * max(h, w) / w, idx * 360 / h) for idx in peak_indices]\n",
    "    piece.update(polar_peaks = polar_peaks)   # list of [(peak_radius, peak_degrees)]\n",
    "\n",
    "    img = piece.img_polar.copy()\n",
    "    for idx in peak_indices:\n",
    "        cv2.circle(img, (radius[idx], idx), 15, 180, 2)\n",
    "    imgs.append(img)\n",
    "\n",
    "ipyplot.plot_images(imgs, img_width=150);"
   ]
  },
  {
   "cell_type": "code",
   "execution_count": null,
   "metadata": {},
   "outputs": [],
   "source": [
    "img = img_orig.copy()\n",
    "\n",
    "for piece in pieces:\n",
    "    piece_degrees = piece.min_area_rect[2]\n",
    "    x, y, w, h = piece.rect\n",
    "    cx = x + w/2\n",
    "    cy = y + h/2\n",
    "\n",
    "    for peak_radius, peak_degrees in piece.polar_peaks:\n",
    "        peak_radians = math.radians(peak_degrees + piece_degrees)\n",
    "        dx = peak_radius * math.cos(peak_radians)\n",
    "        dy = peak_radius * math.sin(peak_radians)\n",
    "        cv2.circle(img, (int(cx + dx), int(cy + dy)), 20, (0, 200, 0), 2)\n",
    "\n",
    "    peaks = {}  # key=quarter, value=[(abs(angle), angle, distance)] where angles are relative to the piece_angle\n",
    "    for peak_radius, peak_degrees in piece.polar_peaks:\n",
    "        quarter = peak_degrees // 90\n",
    "        diff_degrees = peak_degrees % 180\n",
    "        if diff_degrees > 90:\n",
    "            diff_degrees -= 180\n",
    "        peaks.setdefault(quarter, []).append((abs(diff_degrees), peak_radius, peak_degrees + piece_degrees))\n",
    "\n",
    "    corners = []\n",
    "    for quarter in range(4):\n",
    "        _, peak_radius, peak_degrees = min(peaks.get(quarter, [(0, 0, 0)]))\n",
    "        peak_radians = math.radians(peak_degrees)\n",
    "        dx = peak_radius * math.cos(peak_radians)\n",
    "        dy = peak_radius * math.sin(peak_radians)\n",
    "        corner = Item(point = (int(cx+dx), int(cy+dy)))\n",
    "        corners.append(corner)\n",
    "\n",
    "    for idx, corner in enumerate(corners):\n",
    "        prev_corner = corners[(idx - 1)%4]\n",
    "        next_corner = corners[(idx + 1)%4]\n",
    "        corner.update(prev = prev_corner, next = next_corner)\n",
    "    piece.update(corners = corners)\n",
    "    \n",
    "    cv2.line(img, piece.corners[0].point, piece.corners[2].point, (255, 0, 0), 3)\n",
    "    cv2.line(img, piece.corners[1].point, piece.corners[3].point, (255, 0, 0), 3)\n",
    "\n",
    "imshow(img);"
   ]
  },
  {
   "cell_type": "code",
   "execution_count": null,
   "metadata": {},
   "outputs": [],
   "source": [
    "img = img_orig.copy()\n",
    "\n",
    "def length(v):\n",
    "    return v[0]**2 + v[1]**2\n",
    "\n",
    "def sub_contour(c, idx0, idx1):\n",
    "    if idx1 > idx0:\n",
    "        return c[idx0:idx1]\n",
    "    else:\n",
    "        return np.concatenate([c[idx0:], c[:idx1]])\n",
    "\n",
    "for piece in pieces:\n",
    "    idx_list = []\n",
    "    for corner in piece.corners:\n",
    "        distances = [length(p[0] - corner.point) for p in piece.contour]\n",
    "        idx = distances.index(min(distances))\n",
    "        idx_list.append(idx)\n",
    "    \n",
    "    edges = []\n",
    "    for idx in range(4):\n",
    "        idx0 = idx_list[idx]\n",
    "        idx1 = idx_list[(idx-1) % 4]\n",
    "        edge = Item(contour = sub_contour(piece.contour, idx0, idx1))\n",
    "        edges.append(edge)\n",
    "    piece.update(edges = edges)\n",
    "\n",
    "    cv2.drawContours(img, piece.edges[0].contour, -1, (0, 255, 0), 6)\n",
    "    cv2.drawContours(img, piece.edges[1].contour, -1, (255, 0, 0), 6)\n",
    "    cv2.drawContours(img, piece.edges[2].contour, -1, (0, 255, 0), 6)\n",
    "    cv2.drawContours(img, piece.edges[3].contour, -1, (255, 0, 0), 6)\n",
    "\n",
    "imshow(img);"
   ]
  },
  {
   "cell_type": "code",
   "execution_count": null,
   "metadata": {},
   "outputs": [],
   "source": [
    "img = img_orig.copy()\n",
    "\n",
    "for piece in pieces:\n",
    "    nb_flats = 0\n",
    "    for edge in piece.edges:\n",
    "        p0 = edge.contour[0][0]\n",
    "        p1 = edge.contour[-1][0]\n",
    "        dx, dy = p1 - p0\n",
    "        angle_radians = math.atan2(dy, dx)\n",
    "        sin = math.sin(angle_radians)\n",
    "        cos = math.cos(angle_radians)\n",
    "        matrix = np.array([[cos, -sin], [sin, cos]])\n",
    "        normalized_points = (edge.contour - p0) @ matrix  # first point at (0, 0), last point at (X, 0)\n",
    "        heights = normalized_points[:,0,1]\n",
    "        min_height = min(heights)\n",
    "        max_height = max(heights)\n",
    "        if abs(max_height) + abs(min_height) < 10:\n",
    "            edge_type = \"flat\"\n",
    "            nb_flats += 1\n",
    "            color = (0, 255, 0)\n",
    "        elif abs(max_height) > abs(min_height):\n",
    "            edge_type = \"male\"\n",
    "            color = (255, 0, 0)\n",
    "        else:\n",
    "            edge_type = \"female\"\n",
    "            color = (0, 0, 255)\n",
    "        edge.update(\n",
    "            arc_length = cv2.arcLength(edge.contour, closed=False),\n",
    "            straight_length = math.sqrt(dx**2 + dy**2),\n",
    "            height = max(abs(min_height), abs(max_height)),\n",
    "            angle_degrees = math.degrees(angle_radians),\n",
    "            type = edge_type\n",
    "        )\n",
    "        cv2.drawContours(img, edge.contour, -1, color, 6)\n",
    "\n",
    "    piece.update(nb_flats = nb_flats)\n",
    "\n",
    "imshow(img);"
   ]
  },
  {
   "cell_type": "code",
   "execution_count": null,
   "metadata": {},
   "outputs": [],
   "source": [
    "ipyplot.plot_class_tabs(images=[piece.img for piece in pieces], labels=[piece.nb_flats for piece in pieces], img_width=50)"
   ]
  },
  {
   "cell_type": "code",
   "execution_count": null,
   "metadata": {},
   "outputs": [],
   "source": [
    "nb_flats = Counter([piece.nb_flats for piece in pieces])\n",
    "\n",
    "assert nb_flats[2] == 4\n",
    "# H**2 - H*B/2 + I = 0\n",
    "a = 1\n",
    "b = - nb_flats[1] / 2\n",
    "c = nb_flats[0]\n",
    "delta = b**2 - 4*a*c\n",
    "inner_height = int((-b - math.sqrt(delta)) / (2*a))\n",
    "inner_width = int((-b + math.sqrt(delta)) / (2*a))\n",
    "print(f\"Size of puzzle: {2 + inner_width}x{2 + inner_height}\")\n",
    "assert inner_height * inner_width == nb_flats[0]\n",
    "assert 2 * (inner_height + inner_width) == nb_flats[1]"
   ]
  },
  {
   "cell_type": "code",
   "execution_count": null,
   "metadata": {},
   "outputs": [],
   "source": [
    "# for types, straight_lengths, arc_lengths, heights in zip(all_edges_types, all_edges_straight_lengths, all_edges_arc_lengths, all_edges_heights):\n",
    "    "
   ]
  },
  {
   "cell_type": "code",
   "execution_count": null,
   "metadata": {},
   "outputs": [],
   "source": [
    "border_indices = [idx for idx, nb_flats in enumerate(all_nb_flats) if nb_flats == 1]\n",
    "print(border_indices)"
   ]
  }
 ],
 "metadata": {},
 "nbformat": 4,
 "nbformat_minor": 2
}
