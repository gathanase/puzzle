{
 "cells": [
  {
   "cell_type": "markdown",
   "metadata": {},
   "source": [
    "This is a standalone notebook to solve a jigsaw puzzle"
   ]
  },
  {
   "cell_type": "markdown",
   "metadata": {},
   "source": [
    "# Import dependencies"
   ]
  },
  {
   "cell_type": "code",
   "execution_count": null,
   "metadata": {},
   "outputs": [],
   "source": [
    "%pip install matplotlib opencv-python scipy ipyplot;"
   ]
  },
  {
   "cell_type": "code",
   "execution_count": null,
   "metadata": {},
   "outputs": [],
   "source": [
    "import matplotlib.pyplot as plt\n",
    "import ipyplot\n",
    "import numpy as np\n",
    "import cv2\n",
    "import math\n",
    "import statistics\n",
    "from scipy.signal import find_peaks\n",
    "from collections import Counter"
   ]
  },
  {
   "cell_type": "markdown",
   "metadata": {},
   "source": [
    "# Add utilities"
   ]
  },
  {
   "cell_type": "code",
   "execution_count": null,
   "metadata": {},
   "outputs": [],
   "source": [
    "def imshow(img):\n",
    "    plt.imshow(img[0:1680, 0:1700])\n",
    "\n",
    "class Item():\n",
    "    def __init__(self, **kwargs):\n",
    "        self.update(**kwargs)\n",
    "\n",
    "    def update(self, **kwargs):\n",
    "        self.__dict__.update(kwargs)\n",
    "\n",
    "class LoopingList(list):\n",
    "    def __getitem__(self, i):\n",
    "        if isinstance(i, int):\n",
    "            return super().__getitem__(i % len(self))\n",
    "        else:\n",
    "            return super().__getitem__(i)"
   ]
  },
  {
   "cell_type": "markdown",
   "metadata": {},
   "source": [
    "# Detect pieces"
   ]
  },
  {
   "cell_type": "code",
   "execution_count": null,
   "metadata": {},
   "outputs": [],
   "source": [
    "img_rgb = cv2.imread(\"jigsawsqr.png\")\n",
    "h, w = img_rgb.shape[:2]\n",
    "img_rgb = cv2.resize(img_rgb, (4*w, 4*h))\n",
    "imshow(img_rgb);"
   ]
  },
  {
   "cell_type": "code",
   "execution_count": null,
   "metadata": {},
   "outputs": [],
   "source": [
    "img_gray = cv2.cvtColor(img_rgb, cv2.COLOR_BGR2GRAY)\n",
    "imshow(img_gray);"
   ]
  },
  {
   "cell_type": "code",
   "execution_count": null,
   "metadata": {},
   "outputs": [],
   "source": [
    "_, img_binary = cv2.threshold(img_gray, 127, 255, cv2.THRESH_BINARY)\n",
    "contours = cv2.findContours(img_binary, cv2.RETR_EXTERNAL, cv2.CHAIN_APPROX_NONE)[0]\n",
    "img = img_rgb.copy()\n",
    "cv2.drawContours(img, contours, -1, (0, 255, 0), 4)\n",
    "print(\"Number of detected contours: \", len(contours))\n",
    "imshow(img);"
   ]
  },
  {
   "cell_type": "code",
   "execution_count": null,
   "metadata": {},
   "outputs": [],
   "source": [
    "regions = [Item(contour=contour, area=cv2.contourArea(contour), rect=cv2.boundingRect(contour)) for contour in contours]\n",
    "median_area = statistics.median([region.area for region in regions])\n",
    "min_area = 0.5 * median_area\n",
    "max_area = 2 * median_area\n",
    "print(f\"Ignore too big or small regions, median_area: {median_area}\")\n",
    "\n",
    "regions = [region for region in regions if 0.5 < region.area / median_area < 2]\n",
    "print(f\"Number of remaining regions: {len(regions)}\")\n",
    "\n",
    "img = img_rgb.copy()\n",
    "for region in regions:\n",
    "    x, y, w, h = region.rect\n",
    "    cv2.rectangle(img, (x, y), (x+w, y+h), (0, 255, 0), 3)\n",
    "\n",
    "imshow(img);"
   ]
  },
  {
   "cell_type": "code",
   "execution_count": null,
   "metadata": {},
   "outputs": [],
   "source": [
    "imgs = []\n",
    "pieces = []\n",
    "for region in regions:\n",
    "    x, y, w, h = region.rect\n",
    "    p = np.array([x, y])\n",
    "    col = int((x - w/2) * 13 / 4540)\n",
    "    row = int(1 + (y - h/2) * 13 / 4450)\n",
    "    name = chr(ord('A') + col) + str(row)\n",
    "    piece = Item(\n",
    "        contour=region.contour - p,\n",
    "        area=region.area,\n",
    "        img_rgb=img_rgb[y:y+h, x:x+w],\n",
    "        img_gray=img_gray[y:y+h, x:x+w],\n",
    "        size=np.array([h, w]),\n",
    "        name=name\n",
    "    )\n",
    "    pieces.append(piece)\n",
    "\n",
    "    img = piece.img_rgb.copy()\n",
    "    cv2.drawContours(img, piece.contour, -1, (0, 255, 0), 3)\n",
    "    imgs.append(img)\n",
    "\n",
    "ipyplot.plot_images(imgs, img_width=75, max_images=10);"
   ]
  },
  {
   "cell_type": "code",
   "execution_count": null,
   "metadata": {},
   "outputs": [],
   "source": [
    "ipyplot.plot_images([piece.img_rgb for piece in pieces], labels=[piece.name for piece in pieces], img_width=75, max_images=10)"
   ]
  },
  {
   "cell_type": "markdown",
   "metadata": {},
   "source": [
    "# Analyze pieces"
   ]
  },
  {
   "cell_type": "markdown",
   "metadata": {},
   "source": [
    "## Detect corners"
   ]
  },
  {
   "cell_type": "code",
   "execution_count": null,
   "metadata": {},
   "outputs": [],
   "source": [
    "imgs = []\n",
    "for piece in pieces:\n",
    "    min_area_rect = cv2.minAreaRect(piece.contour)\n",
    "    (cx, cy), (sx, sy), angle_degrees = min_area_rect\n",
    "    if sy < sx:\n",
    "        angle_degrees = (angle_degrees + 90) % 360\n",
    "        sx, sy = sy, sx\n",
    "    min_area_rect = ((cx, cy), (sx, sy), angle_degrees)\n",
    "    piece.update(\n",
    "        min_area_rect=min_area_rect,\n",
    "        angle_degrees=angle_degrees\n",
    "    )\n",
    "\n",
    "    img = piece.img_rgb.copy()\n",
    "    box = np.int0(cv2.boxPoints(min_area_rect))\n",
    "    cv2.drawContours(img, [box], 0, (0, 255, 0), 3)\n",
    "    imgs.append(img)\n",
    "\n",
    "ipyplot.plot_images(imgs, img_width=75, max_images=10);"
   ]
  },
  {
   "cell_type": "code",
   "execution_count": null,
   "metadata": {},
   "outputs": [],
   "source": [
    "for piece in pieces:\n",
    "    h, w = piece.size\n",
    "    img = cv2.linearPolar(piece.img_gray, (w/2, h/2), max(h, w), cv2.WARP_FILL_OUTLIERS)\n",
    "    y0 = int(piece.angle_degrees * h / 360) % 360\n",
    "    img = np.concatenate([img[y0:, :], img[:y0, :]])\n",
    "    _, img_binary = cv2.threshold(img, 127, 255, cv2.THRESH_BINARY)\n",
    "    piece.update(img_polar=img_binary)\n",
    "\n",
    "ipyplot.plot_images([piece.img_polar for piece in pieces], img_width=75, max_images=10); "
   ]
  },
  {
   "cell_type": "code",
   "execution_count": null,
   "metadata": {},
   "outputs": [],
   "source": [
    "imgs = []\n",
    "\n",
    "for piece in pieces:\n",
    "    img_reversed = np.flip(piece.img_polar, axis=1)\n",
    "    h, w = piece.size\n",
    "    radius = w - np.argmax(img_reversed, axis=1)\n",
    "    peak_indices = find_peaks(radius, prominence=5)[0]\n",
    "\n",
    "    polar_peaks = [(radius[idx] * max(h, w) / w, idx * 360 / h) for idx in peak_indices]\n",
    "    piece.update(polar_peaks=polar_peaks)   # list of [(peak_radius, peak_degrees)]\n",
    "\n",
    "    img = piece.img_polar.copy()\n",
    "    for idx in peak_indices:\n",
    "        cv2.circle(img, (radius[idx], idx), 15, 180, 2)\n",
    "    imgs.append(img)\n",
    "\n",
    "ipyplot.plot_images(imgs, img_width=150, max_images=10);"
   ]
  },
  {
   "cell_type": "code",
   "execution_count": null,
   "metadata": {},
   "outputs": [],
   "source": [
    "imgs = []\n",
    "\n",
    "for piece in pieces:\n",
    "    h, w = piece.size\n",
    "\n",
    "    img = piece.img_rgb.copy()\n",
    "    for peak_radius, peak_degrees in piece.polar_peaks:\n",
    "        peak_radians = math.radians(peak_degrees + piece.angle_degrees)\n",
    "        x = w/2 + peak_radius * math.cos(peak_radians)\n",
    "        y = h/2 + peak_radius * math.sin(peak_radians)\n",
    "        cv2.circle(img, (int(x), int(y)), 15, (0, 200, 0), 2)\n",
    "\n",
    "    peaks = {}  # key=quarter, value=[(abs(angle), angle, distance)] where angles are relative to the piece_angle\n",
    "    for peak_radius, peak_degrees in piece.polar_peaks:\n",
    "        quarter = peak_degrees // 90\n",
    "        diff_degrees = peak_degrees % 180\n",
    "        if diff_degrees > 90:\n",
    "            diff_degrees -= 180\n",
    "        peaks.setdefault(quarter, []).append((abs(diff_degrees), peak_radius, peak_degrees + piece.angle_degrees))\n",
    "\n",
    "    corners = LoopingList()\n",
    "    for quarter in range(4):\n",
    "        _, peak_radius, peak_degrees = min(peaks.get(3 - quarter, [(0, 0, 0)]))\n",
    "        peak_radians = math.radians(peak_degrees)\n",
    "        x = w/2 + peak_radius * math.cos(peak_radians)\n",
    "        y = h/2 + peak_radius * math.sin(peak_radians)\n",
    "        corner = Item(point=np.array([int(x), int(y)]))\n",
    "        corners.append(corner)\n",
    "\n",
    "    for idx, corner in enumerate(corners):\n",
    "        corner.update(prev=corners[idx-1], next=corners[idx+1])\n",
    "    piece.update(corners=corners)\n",
    "    \n",
    "    cv2.line(img, piece.corners[0].point, piece.corners[2].point, (255, 0, 0), 3)\n",
    "    cv2.line(img, piece.corners[1].point, piece.corners[3].point, (255, 0, 0), 3)\n",
    "    imgs.append(img)\n",
    "\n",
    "ipyplot.plot_images(imgs, img_width=75, max_images=10);"
   ]
  },
  {
   "cell_type": "markdown",
   "metadata": {},
   "source": [
    "## Analyze edges"
   ]
  },
  {
   "cell_type": "code",
   "execution_count": null,
   "metadata": {},
   "outputs": [],
   "source": [
    "imgs = []\n",
    "\n",
    "def length(v):\n",
    "    return v[0]**2 + v[1]**2\n",
    "\n",
    "def sub_contour(c, idx0, idx1):\n",
    "    if idx1 > idx0:\n",
    "        return c[idx0:idx1]\n",
    "    else:\n",
    "        return np.concatenate([c[idx0:], c[:idx1]])\n",
    "\n",
    "for piece in pieces:\n",
    "    for corner in piece.corners:\n",
    "        distances = [length(p[0] - corner.point) for p in piece.contour]\n",
    "        corner.update(idx=distances.index(min(distances)))\n",
    "    \n",
    "    edges = LoopingList()\n",
    "    for corner in piece.corners:\n",
    "        corner0 = corner.prev\n",
    "        corner1 = corner\n",
    "        contour = sub_contour(piece.contour, corner0.idx, corner1.idx)\n",
    "        edge = Item(\n",
    "            contour=contour,\n",
    "            corner0=corner0,\n",
    "            corner1=corner1,\n",
    "            p0=corner0.point,\n",
    "            p1=corner1.point,\n",
    "            idx0=corner0.idx,\n",
    "            idx1=corner1.idx\n",
    "        )\n",
    "        edges.append(edge)\n",
    "    \n",
    "    piece.update(edges=edges)\n",
    "\n",
    "    for edge in piece.edges:\n",
    "        edge.corner0.update(edge1=edge)\n",
    "        edge.corner1.update(edge0=edge)\n",
    "\n",
    "    img = piece.img_rgb.copy()\n",
    "    cv2.drawContours(img, piece.edges[0].contour, -1, (0, 255, 0), 6)\n",
    "    cv2.drawContours(img, piece.edges[1].contour, -1, (255, 0, 0), 6)\n",
    "    cv2.drawContours(img, piece.edges[2].contour, -1, (0, 255, 0), 6)\n",
    "    cv2.drawContours(img, piece.edges[3].contour, -1, (255, 0, 0), 6)\n",
    "    imgs.append(img)\n",
    "\n",
    "ipyplot.plot_images(imgs, img_width=75, max_images=10);"
   ]
  },
  {
   "cell_type": "code",
   "execution_count": null,
   "metadata": {},
   "outputs": [],
   "source": [
    "imgs = []\n",
    "NB_SAMPLES = 100  # size of the sampled contour\n",
    "\n",
    "for piece in pieces:\n",
    "    nb_flats = 0\n",
    "    img = piece.img_rgb.copy()\n",
    "    for idx, edge in enumerate(piece.edges):\n",
    "        dx, dy = edge.p1 - edge.p0\n",
    "        angle_radians = math.atan2(dy, dx)\n",
    "        sin = math.sin(angle_radians)\n",
    "        cos = math.cos(angle_radians)\n",
    "        matrix = np.array([[cos, -sin], [sin, cos]])\n",
    "        normalized_contour = (edge.contour - edge.p0) @ matrix  # first point at (0, 0), last point at (X, 0)\n",
    "        sample_idx = [i * (len(normalized_contour)-1) // (NB_SAMPLES-1) for i in range(NB_SAMPLES)]\n",
    "        sampled_contour = normalized_contour.astype(np.int64)[sample_idx, 0, :]\n",
    "        heights = normalized_contour[:,0,1]\n",
    "        min_height = min(heights)\n",
    "        max_height = max(heights)\n",
    "        if abs(max_height) + abs(min_height) < 10:\n",
    "            edge_type = 0\n",
    "            nb_flats += 1\n",
    "            color = (0, 255, 0)\n",
    "        elif abs(max_height) > abs(min_height):\n",
    "            edge_type = 1\n",
    "            color = (255, 0, 0)\n",
    "        else:\n",
    "            edge_type = -1\n",
    "            color = (0, 0, 255)\n",
    "        edge.update(\n",
    "            idx=idx,\n",
    "            arc_length=cv2.arcLength(edge.contour, closed=False),\n",
    "            straight_length=math.sqrt(dx**2 + dy**2),\n",
    "            height=max(abs(min_height), abs(max_height)),\n",
    "            angle_degrees=math.degrees(angle_radians),\n",
    "            type=edge_type,\n",
    "            prev=piece.edges[idx-1],\n",
    "            next=piece.edges[idx+1]\n",
    "        )\n",
    "        edge.update(\n",
    "            normalized_prev_point=(edge.prev.p0 - edge.p0) @ matrix,\n",
    "            normalized_next_point=(edge.next.p1 - edge.p1) @ matrix,\n",
    "            normalized_contour=normalized_contour.astype(np.int64),\n",
    "            sampled_contour=sampled_contour\n",
    "        )\n",
    "        cv2.drawContours(img, edge.contour, -1, color, 6)\n",
    "\n",
    "    piece.update(nb_flats=nb_flats)\n",
    "    imgs.append(img)\n",
    "\n",
    "ipyplot.plot_images(imgs, img_width=75, max_images=10);"
   ]
  },
  {
   "cell_type": "code",
   "execution_count": null,
   "metadata": {},
   "outputs": [],
   "source": [
    "piece = pieces[0]\n",
    "edge = piece.edges[0]\n",
    "plt.plot(edge.normalized_contour[:, :, 0], edge.normalized_contour[:, :, 1])\n",
    "plt.plot(edge.sampled_contour[:, 0], edge.sampled_contour[:, 1])"
   ]
  },
  {
   "cell_type": "code",
   "execution_count": null,
   "metadata": {},
   "outputs": [],
   "source": [
    "ipyplot.plot_class_tabs(images=[piece.img_rgb for piece in pieces], labels=[piece.nb_flats for piece in pieces], img_width=50);"
   ]
  },
  {
   "cell_type": "code",
   "execution_count": null,
   "metadata": {},
   "outputs": [],
   "source": [
    "imgs = []\n",
    "PAD = 50\n",
    "\n",
    "for idx, piece in enumerate(pieces):\n",
    "    h, w = piece.size\n",
    "    for edge in piece.edges:\n",
    "        img = cv2.copyMakeBorder(piece.img_rgb, PAD, PAD, PAD, PAD, cv2.BORDER_CONSTANT)\n",
    "        matrix = cv2.getRotationMatrix2D((PAD + w/2, PAD + h/2), edge.angle_degrees, 1)\n",
    "        cv2.warpAffine(img, matrix, (w+2*PAD, h+2*PAD), img)\n",
    "        contour = cv2.transform(edge.contour + PAD, matrix)\n",
    "        p0 = contour[0][0]\n",
    "        p1 = contour[-1][0]\n",
    "        p_prev = p0 + edge.normalized_prev_point\n",
    "        p_next = p1 + edge.normalized_next_point\n",
    "        cv2.circle(img, (int(p0[0]), int(p0[1])), 15, (0, 255, 0), 3)\n",
    "        cv2.circle(img, (int(p_prev[0]), int(p_prev[1])), 25, (0, 255, 0), 3)\n",
    "        cv2.circle(img, (int(p1[0]), int(p1[1])), 15, (255, 0, 0), 3)\n",
    "        cv2.circle(img, (int(p_next[0]), int(p_next[1])), 25, (255, 0, 0), 3)\n",
    "        cv2.line(img, (0, int(p0[1])), (w + 2*PAD, int(p0[1])), (0, 255, 0), 2)\n",
    "        imgs.append(img)\n",
    "\n",
    "ipyplot.plot_images(imgs, img_width=75);"
   ]
  },
  {
   "cell_type": "markdown",
   "metadata": {},
   "source": [
    "## Add piece utilities"
   ]
  },
  {
   "cell_type": "code",
   "execution_count": null,
   "metadata": {},
   "outputs": [],
   "source": [
    "piece_by_name = dict([(piece.name, piece) for piece in pieces])\n",
    "\n",
    "def transform_idx(piece, contour_idx, transform):\n",
    "    return cv2.transform(piece.contour[contour_idx:contour_idx+1], transform)[0][0]\n",
    "\n",
    "def make_transform(piece, contour_idx, target_position, angle_degrees):\n",
    "    \"\"\" Compute the affine transform of the piece that rotates by angle_degrees\n",
    "    and set the point piece.contour[idx] at position\"\"\"\n",
    "    rotation_matrix = cv2.getRotationMatrix2D((0, 0), angle_degrees, 1)\n",
    "    position = transform_idx(piece, contour_idx, rotation_matrix)\n",
    "    dx, dy = target_position - position\n",
    "    rotation_matrix33 = np.concatenate([rotation_matrix, [[0, 0, 1]]])\n",
    "    translation_matrix = np.array([[1, 0, dx], [0, 1, dy], [0, 0, 1]])\n",
    "    transform = translation_matrix @ rotation_matrix33\n",
    "    return transform[:2]\n",
    "\n",
    "def draw_piece_on_edge(piece, edge):\n",
    "    PAD = 50\n",
    "    h, w = piece.size\n",
    "    img = cv2.copyMakeBorder(piece.img_rgb, PAD, PAD, PAD, PAD, cv2.BORDER_CONSTANT)\n",
    "    matrix = cv2.getRotationMatrix2D((PAD + w/2, PAD + h/2), edge.angle_degrees, 1)\n",
    "    cv2.warpAffine(img, matrix, (w+2*PAD, h+2*PAD), img)\n",
    "    return img\n",
    "\n",
    "def first_flat_edge(piece):\n",
    "    return [edge for edge in piece.edges if edge.type == 0 and edge.prev.type != 0][0]\n",
    "\n",
    "def last_flat_edge(piece):\n",
    "    return [edge for edge in piece.edges if edge.type == 0 and edge.next.type != 0][0]\n",
    "\n",
    "def edge_after_flat(piece):\n",
    "    return last_flat_edge(piece).next\n",
    "\n",
    "def edge_before_flat(piece):\n",
    "    return first_flat_edge(piece).prev"
   ]
  },
  {
   "cell_type": "markdown",
   "metadata": {},
   "source": [
    "# Compute puzzle size"
   ]
  },
  {
   "cell_type": "code",
   "execution_count": null,
   "metadata": {},
   "outputs": [],
   "source": [
    "def compute_size(area, perimeter):\n",
    "    # perimeter = 2 * (H+W)\n",
    "    # area = H*W\n",
    "    # H**2 - perimeter/2 * H + area = 0\n",
    "    a = 1\n",
    "    b = -perimeter/2\n",
    "    c = area\n",
    "    delta = b**2 - 4*a*c\n",
    "    h = int((-b - math.sqrt(delta)) / (2*a))\n",
    "    w = int((-b + math.sqrt(delta)) / (2*a))\n",
    "    return (min(h, w), max(h, w))"
   ]
  },
  {
   "cell_type": "code",
   "execution_count": null,
   "metadata": {},
   "outputs": [],
   "source": [
    "solution = Item()\n",
    "\n",
    "nb_flats = Counter([piece.nb_flats for piece in pieces])\n",
    "assert nb_flats[2] == 4\n",
    "area = len(pieces)\n",
    "perimeter = nb_flats[1] + 2*nb_flats[2]\n",
    "w, h = compute_size(area, perimeter)\n",
    "print(f\"Size of puzzle grid: {w} x {h}\")\n",
    "assert w * h == area\n",
    "assert 2 * (w + h) == perimeter\n",
    "\n",
    "solution.update(grid_size = (w, h))"
   ]
  },
  {
   "cell_type": "code",
   "execution_count": null,
   "metadata": {},
   "outputs": [],
   "source": [
    "area = sum([piece.area for piece in pieces])\n",
    "perimeter = sum([edge.straight_length for piece in pieces for edge in piece.edges if edge.type == 0])\n",
    "\n",
    "w, h = compute_size(area, perimeter)\n",
    "print(f\"Approximate size of puzzle image: {w} x {h}\")\n",
    "\n",
    "solution.update(approximate_size = (w, h))"
   ]
  },
  {
   "cell_type": "markdown",
   "metadata": {},
   "source": [
    "# Compute the border"
   ]
  },
  {
   "cell_type": "markdown",
   "metadata": {},
   "source": [
    "## Add border utilities"
   ]
  },
  {
   "cell_type": "code",
   "execution_count": null,
   "metadata": {},
   "outputs": [],
   "source": [
    "border_pieces = [piece for piece in pieces if piece.nb_flats > 0]\n",
    "\n",
    "def hardcoded_piece_after_flat(piece):\n",
    "    sequence = LoopingList([\n",
    "        'A1', 'G2', 'D3', 'L4', 'E4', 'F3', 'E3', 'B11', 'H1', 'G12', 'E10',\n",
    "        'H4', 'G6', 'D9', 'F2', 'H6', 'H12', 'I6', 'E7', 'K2', 'L9', 'K11',\n",
    "        'A12', 'I7', 'C11', 'A2', 'H3', 'D10', 'I5', 'D5', 'E12', 'G9', 'B5',\n",
    "        'F12', 'H11', 'A11', 'L10', 'D4', 'L6', 'K3', 'F4', 'A10', 'A5', 'B2'])\n",
    "    idx = sequence.index(piece.name)\n",
    "    return piece_by_name[sequence[idx+1]]\n",
    "\n",
    "def evaluate_border_matcher(matcher):\n",
    "    results = [(matcher(piece).index(hardcoded_piece_after_flat(piece)), piece.name, piece) for piece in border_pieces]\n",
    "    results.sort()\n",
    "    errors = sum([result[0] for result in results])\n",
    "    worst = max(results)\n",
    "    print(f\"border matcher errors: {errors}, worst: {worst[:2]}\")\n",
    "    return errors, worst\n",
    "\n",
    "def draw_border_candidates(piece0, matcher):\n",
    "    imgs = [draw_piece_on_edge(piece0, last_flat_edge(piece0))]\n",
    "    print(f\"0 {piece0.name}\")\n",
    "    for idx, piece1 in enumerate(matcher(piece0)[:10]):\n",
    "        print(f\"{idx+1} {piece1.name}\")\n",
    "        imgs.append(draw_piece_on_edge(piece1, first_flat_edge(piece1)))\n",
    "    return imgs"
   ]
  },
  {
   "cell_type": "markdown",
   "metadata": {},
   "source": [
    "## Feature match"
   ]
  },
  {
   "cell_type": "code",
   "execution_count": null,
   "metadata": {},
   "outputs": [],
   "source": [
    "before_flat_features = {}  # key=piece, value=features\n",
    "after_flat_features = {}  # key=piece, value=features\n",
    "for piece in border_pieces:\n",
    "    edge = first_flat_edge(piece)\n",
    "    features = np.array([\n",
    "        edge.prev.type,\n",
    "        edge.prev.straight_length,\n",
    "        edge.prev.arc_length,\n",
    "        edge.prev.height,\n",
    "        edge.normalized_prev_point[0],\n",
    "        edge.normalized_prev_point[1]\n",
    "    ])\n",
    "    before_flat_features[piece] = features\n",
    "\n",
    "    edge = last_flat_edge(piece)\n",
    "    features = np.array([\n",
    "        edge.next.type,\n",
    "        edge.next.straight_length,\n",
    "        edge.next.arc_length,\n",
    "        edge.next.height,\n",
    "        edge.normalized_next_point[0],\n",
    "        edge.normalized_next_point[1]\n",
    "    ])\n",
    "    after_flat_features[piece] = features"
   ]
  },
  {
   "cell_type": "code",
   "execution_count": null,
   "metadata": {},
   "outputs": [],
   "source": [
    "male_after_flat_features = np.array([f for f in after_flat_features.values() if f[0] == 1])\n",
    "female_before_flat_features = np.array([f for f in before_flat_features.values() if f[0] == -1])\n",
    "male_before_flat_features = np.array([f for f in before_flat_features.values() if f[0] == 1])\n",
    "female_after_flat_features = np.array([f for f in after_flat_features.values() if f[0] == -1])\n",
    "\n",
    "index_x = 1\n",
    "index_y = 2\n",
    "index_c = 3\n",
    "f = male_before_flat_features; plt.scatter(x=f[:, index_x], y=f[:, index_y], c=f[:, index_c], marker=\".\")\n",
    "f = female_after_flat_features; plt.scatter(x=f[:, index_x], y=f[:, index_y], c=f[:, index_c], marker=\"*\");\n",
    "f = male_after_flat_features; plt.scatter(x=f[:, index_x], y=f[:, index_y], c=f[:, index_c], marker=\"v\")\n",
    "f = female_before_flat_features; plt.scatter(x=f[:, index_x], y=f[:, index_y], c=f[:, index_c], marker=\"^\")"
   ]
  },
  {
   "cell_type": "code",
   "execution_count": null,
   "metadata": {},
   "outputs": [],
   "source": [
    "index_x = 4\n",
    "index_y = 5\n",
    "index_c = 1\n",
    "f = male_before_flat_features; plt.scatter(x=f[:, index_x], y=f[:, index_y], c=f[:, index_c], marker=\".\")\n",
    "f = female_after_flat_features; plt.scatter(x=f[:, index_x], y=f[:, index_y], c=f[:, index_c], marker=\"*\")\n",
    "f = male_after_flat_features; plt.scatter(x=f[:, index_x], y=f[:, index_y], c=f[:, index_c], marker=\"v\")\n",
    "f = female_before_flat_features; plt.scatter(x=f[:, index_x], y=f[:, index_y], c=f[:, index_c], marker=\"^\");"
   ]
  },
  {
   "cell_type": "code",
   "execution_count": null,
   "metadata": {},
   "outputs": [],
   "source": [
    "def feature_matches_after_flat(piece0):\n",
    "    features0 = after_flat_features[piece0]\n",
    "    results = [(sum((features1[1:] - features0[1:])**2), piece1) for piece1, features1 in before_flat_features.items() if features0[0] == -features1[0]]\n",
    "    results.sort()\n",
    "    return [piece for score, piece in results]\n",
    "\n",
    "errors, worst = evaluate_border_matcher(feature_matches_after_flat)\n",
    "imgs = draw_border_candidates(worst[2], feature_matches_after_flat)\n",
    "ipyplot.plot_images(imgs, img_width=75);"
   ]
  },
  {
   "cell_type": "markdown",
   "metadata": {},
   "source": [
    "## Xor border match"
   ]
  },
  {
   "cell_type": "code",
   "execution_count": null,
   "metadata": {},
   "outputs": [],
   "source": [
    "imgs = []\n",
    "\n",
    "piece0 = border_pieces[0]\n",
    "edge0 = last_flat_edge(piece0)\n",
    "\n",
    "piece1 = feature_matches_after_flat(piece0)[0]\n",
    "edge1 = last_flat_edge(piece1)\n",
    "\n",
    "imgs.append(draw_piece_on_edge(piece0, edge0))\n",
    "imgs.append(draw_piece_on_edge(piece1, edge1))\n",
    "\n",
    "PAD = 50\n",
    "size = max(piece0.img_gray.shape[:2]) + 2*PAD\n",
    "img0 = np.zeros((size, size), np.uint8)\n",
    "ref_point = np.array([size // 2, size - PAD])\n",
    "transform0 = make_transform(piece0, edge0.idx1, ref_point, edge0.angle_degrees)\n",
    "contour0 = cv2.transform(piece0.contour, transform0)\n",
    "cv2.fillPoly(img0, [contour0], 255)\n",
    "imgs.append(img0)\n",
    "\n",
    "transform1 = make_transform(piece1, edge1.idx0, ref_point, edge1.angle_degrees)\n",
    "contour1 = cv2.transform(piece1.contour, transform1)\n",
    "img1 = np.zeros_like(img0)\n",
    "cv2.fillPoly(img1, [contour1], 255)\n",
    "imgs.append(img1)\n",
    "\n",
    "img_both = np.zeros_like(img0)\n",
    "cv2.drawContours(img_both, [contour0, contour1], -1, 255, 2)\n",
    "imgs.append(img_both)\n",
    "\n",
    "img_mask = np.zeros_like(img0)\n",
    "cv2.polylines(img_mask, [sub_contour(contour0, edge0.next.idx0 + 10, edge0.next.idx1 - 10)], False, 255, 20)\n",
    "imgs.append(img_mask)\n",
    "\n",
    "img0_edge = np.zeros_like(img0)\n",
    "cv2.bitwise_and(img0, img_mask, img0_edge)\n",
    "imgs.append(img0_edge)\n",
    "\n",
    "img1_edge = np.zeros_like(img0)\n",
    "cv2.bitwise_and(img1, img_mask, img1_edge)\n",
    "imgs.append(img1_edge)\n",
    "\n",
    "img_xor = np.zeros_like(img0)\n",
    "cv2.bitwise_xor(img0_edge, img1_edge, img_xor)\n",
    "imgs.append(img_xor)\n",
    "\n",
    "img_and = np.zeros_like(img0)\n",
    "cv2.bitwise_and(img0_edge, img1_edge, img_and)\n",
    "imgs.append(img_and)\n",
    "\n",
    "img_or = np.zeros_like(img0)\n",
    "cv2.bitwise_or(img0_edge, img1_edge, img_or)\n",
    "imgs.append(img_or)\n",
    "\n",
    "print(\"Xor match:\", img_xor.shape[:2], np.sum(img_xor), np.sum(img_mask), np.sum(img_xor) / np.sum(img_mask))\n",
    "ipyplot.plot_images(imgs, img_width=100);"
   ]
  },
  {
   "cell_type": "markdown",
   "metadata": {},
   "source": [
    "## Cv border match"
   ]
  },
  {
   "cell_type": "code",
   "execution_count": null,
   "metadata": {},
   "outputs": [],
   "source": [
    "def cv_matches_after_flat(piece0):\n",
    "    edge0 = last_flat_edge(piece0)\n",
    "    results = []\n",
    "    for piece1 in border_pieces:\n",
    "        edge1 = first_flat_edge(piece1)\n",
    "        if edge1.prev.type == -edge0.next.type:\n",
    "            score = cv2.matchShapes(edge1.prev.contour, edge0.next.contour, 1, 0.)\n",
    "            result = (score, piece1)\n",
    "            results.append(result)\n",
    "    results.sort()\n",
    "    return [piece for score, piece in results]\n",
    "\n",
    "errors, worst = evaluate_border_matcher(cv_matches_after_flat)\n",
    "imgs = draw_border_candidates(worst[2], cv_matches_after_flat)\n",
    "ipyplot.plot_images(imgs, img_width=75);"
   ]
  },
  {
   "cell_type": "markdown",
   "metadata": {},
   "source": [
    "## Distance border match"
   ]
  },
  {
   "cell_type": "code",
   "execution_count": null,
   "metadata": {},
   "outputs": [],
   "source": [
    "imgs = []\n",
    "\n",
    "piece0 = border_pieces[1]\n",
    "edge0 = last_flat_edge(piece0)\n",
    "contour0 = edge0.next.sampled_contour\n",
    "\n",
    "piece1 = feature_matches_after_flat(piece0)[0]\n",
    "edge1 = first_flat_edge(piece1)\n",
    "contour1 = edge1.prev.sampled_contour\n",
    "\n",
    "diff = contour0[::-1] + contour1\n",
    "offset = np.mean(diff, axis=0)\n",
    "plt.plot(contour0[:, 0], contour0[:, 1])\n",
    "plt.plot(offset[0]-contour1[:, 0], offset[1]-contour1[:, 1])\n",
    "print(np.sum((diff - offset)**2))"
   ]
  },
  {
   "cell_type": "code",
   "execution_count": null,
   "metadata": {},
   "outputs": [],
   "source": [
    "def distance_matches_after_flat(piece0):\n",
    "    edge0 = edge_after_flat(piece0)\n",
    "    contour0 = edge0.sampled_contour[::-1]\n",
    "\n",
    "    results = []\n",
    "    for piece1 in pieces:\n",
    "        if piece1.nb_flats > 0:\n",
    "            edge1 = edge_before_flat(piece1)\n",
    "            if edge1.type == -edge0.type:\n",
    "                contour1 = edge1.sampled_contour\n",
    "                diff = contour0 + contour1\n",
    "                offset = np.mean(diff, axis=0)\n",
    "                score = np.sum((diff - offset)**2)\n",
    "                results.append((score, piece1))\n",
    "    results.sort()\n",
    "    return [piece for score, piece in results]\n",
    "\n",
    "errors, worst = evaluate_border_matcher(distance_matches_after_flat)\n",
    "imgs = draw_border_candidates(worst[2], distance_matches_after_flat)\n",
    "ipyplot.plot_images(imgs, img_width=75);"
   ]
  },
  {
   "cell_type": "markdown",
   "metadata": {},
   "source": [
    "# Place the border"
   ]
  },
  {
   "cell_type": "code",
   "execution_count": null,
   "metadata": {},
   "outputs": [],
   "source": [
    "PAD = 30\n",
    "size = max(solution.approximate_size) + 2*PAD\n",
    "\n",
    "solution.update(\n",
    "    img_rgb=np.zeros((size, size, 3), img_rgb.dtype),\n",
    "    grid={} # key=(i, j), value=(piece, top_edge_idx)\n",
    ")\n",
    "\n",
    "def place_piece(pos, piece, top_edge_idx):\n",
    "    x, y = pos\n",
    "    c = int((x+y)%2 * 255)\n",
    "    solution.grid[pos] = (piece, top_edge_idx)\n",
    "    contour = cv2.transform(piece.contour, piece.transform)\n",
    "    cv2.drawContours(solution.img_rgb, contour, -1, (c, 255 - c, 255), 5)\n",
    "\n",
    "def place_top_left():\n",
    "    piece = piece_by_name['A1']\n",
    "    top_edge = first_flat_edge(piece)\n",
    "    corner = top_edge.corner1\n",
    "    transform = make_transform(piece, corner.idx, np.array([PAD, PAD]), top_edge.angle_degrees + 180)\n",
    "    piece.update(transform=transform)\n",
    "    place_piece((0, 0), piece, top_edge.idx)\n",
    "\n",
    "def place_border(pos, dpos, quarter):\n",
    "    pos = np.array(pos)\n",
    "    dpos = np.array(dpos)\n",
    "    for _ in range(11):\n",
    "        piece, top_edge_idx = solution.grid[tuple(pos)]\n",
    "        pos += dpos\n",
    "        if tuple(pos) in solution.grid:\n",
    "            break\n",
    "        flat_edge = piece.edges[top_edge_idx - quarter]\n",
    "        ref_point = transform_idx(piece, flat_edge.corner1.idx, piece.transform)\n",
    "        piece = feature_matches_after_flat(piece)[0]\n",
    "        flat_edge = first_flat_edge(piece)\n",
    "        transform = make_transform(piece, flat_edge.idx0, ref_point, flat_edge.angle_degrees + 180 - 90 * quarter)\n",
    "        piece.update(transform=transform)\n",
    "        place_piece(tuple(pos), piece, flat_edge.idx + quarter)\n",
    "\n",
    "place_top_left()\n",
    "place_border((0, 0), (0, 1), 3)\n",
    "place_border((0, 11), (1, 0), 2)\n",
    "place_border((11, 11), (0, -1), 1)\n",
    "place_border((11, 0), (-1, 0), 0)\n",
    "\n",
    "plt.imshow(solution.img_rgb)\n",
    "plt.axis(\"off\");"
   ]
  }
 ],
 "metadata": {},
 "nbformat": 4,
 "nbformat_minor": 2
}
